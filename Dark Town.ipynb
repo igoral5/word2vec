{
 "cells": [
  {
   "cell_type": "code",
   "execution_count": 1,
   "metadata": {
    "collapsed": true
   },
   "outputs": [],
   "source": [
    "import logging"
   ]
  },
  {
   "cell_type": "code",
   "execution_count": 2,
   "metadata": {
    "collapsed": true
   },
   "outputs": [],
   "source": [
    "from gensim.models import Word2Vec"
   ]
  },
  {
   "cell_type": "code",
   "execution_count": 3,
   "metadata": {
    "collapsed": false
   },
   "outputs": [],
   "source": [
    "from read_fb2 import Senteces"
   ]
  },
  {
   "cell_type": "code",
   "execution_count": 4,
   "metadata": {
    "collapsed": true
   },
   "outputs": [],
   "source": [
    "import multiprocessing"
   ]
  },
  {
   "cell_type": "code",
   "execution_count": 5,
   "metadata": {
    "collapsed": true
   },
   "outputs": [],
   "source": [
    "logging.basicConfig(format='%(asctime)s : %(levelname)s : %(message)s', level=logging.INFO)"
   ]
  },
  {
   "cell_type": "code",
   "execution_count": 6,
   "metadata": {
    "collapsed": true
   },
   "outputs": [],
   "source": [
    "sentences = Senteces('/home/igor/Dropbox/Books/Стивен Кинг/Тёмная башня',  name_file_general='newscollection_lemma_dict.tsv', name_file_stop='stop.txt')"
   ]
  },
  {
   "cell_type": "code",
   "execution_count": 7,
   "metadata": {
    "collapsed": false
   },
   "outputs": [
    {
     "name": "stderr",
     "output_type": "stream",
     "text": [
      "2017-02-01 11:06:52,796 : INFO : collecting all words and their counts\n",
      "2017-02-01 11:06:52,798 : INFO : PROGRESS: at sentence #0, processed 0 words, keeping 0 word types\n",
      "2017-02-01 11:06:53,072 : INFO : PROGRESS: at sentence #10000, processed 111235 words, keeping 11713 word types\n",
      "2017-02-01 11:06:53,308 : INFO : PROGRESS: at sentence #20000, processed 205441 words, keeping 16081 word types\n",
      "2017-02-01 11:06:53,535 : INFO : PROGRESS: at sentence #30000, processed 295710 words, keeping 18507 word types\n",
      "2017-02-01 11:06:53,777 : INFO : PROGRESS: at sentence #40000, processed 392330 words, keeping 21223 word types\n",
      "2017-02-01 11:06:54,009 : INFO : PROGRESS: at sentence #50000, processed 483176 words, keeping 23929 word types\n",
      "2017-02-01 11:06:54,245 : INFO : PROGRESS: at sentence #60000, processed 578715 words, keeping 25560 word types\n",
      "2017-02-01 11:06:54,488 : INFO : PROGRESS: at sentence #70000, processed 674726 words, keeping 27025 word types\n",
      "2017-02-01 11:06:54,747 : INFO : PROGRESS: at sentence #80000, processed 782589 words, keeping 28908 word types\n",
      "2017-02-01 11:06:55,016 : INFO : PROGRESS: at sentence #90000, processed 894976 words, keeping 30383 word types\n",
      "2017-02-01 11:06:55,270 : INFO : PROGRESS: at sentence #100000, processed 997092 words, keeping 31954 word types\n",
      "2017-02-01 11:06:55,524 : INFO : PROGRESS: at sentence #110000, processed 1100150 words, keeping 33454 word types\n",
      "2017-02-01 11:06:55,659 : INFO : collected 34199 word types from a corpus of 1152354 raw words and 115395 sentences\n",
      "2017-02-01 11:06:55,660 : INFO : Loading a fresh vocabulary\n",
      "2017-02-01 11:06:55,723 : INFO : min_count=5 retains 12938 unique words (37% of original 34199, drops 21261)\n",
      "2017-02-01 11:06:55,724 : INFO : min_count=5 leaves 1116063 word corpus (96% of original 1152354, drops 36291)\n",
      "2017-02-01 11:06:55,753 : INFO : deleting the raw counts dictionary of 34199 items\n",
      "2017-02-01 11:06:55,756 : INFO : sample=0.001 downsamples 52 most-common words\n",
      "2017-02-01 11:06:55,757 : INFO : downsampling leaves estimated 899123 word corpus (80.6% of prior 1116063)\n",
      "2017-02-01 11:06:55,757 : INFO : estimated required memory for 12938 words and 400 dimensions: 47870600 bytes\n",
      "2017-02-01 11:06:55,800 : INFO : resetting layer weights\n",
      "2017-02-01 11:06:55,955 : INFO : training model with 8 workers on 12938 vocabulary and 400 features, using sg=0 hs=0 sample=0.001 negative=5 window=5\n",
      "2017-02-01 11:06:55,955 : INFO : expecting 115395 sentences, matching count from corpus used for vocabulary survey\n",
      "2017-02-01 11:06:56,983 : INFO : PROGRESS: at 5.49% examples, 234910 words/s, in_qsize 0, out_qsize 0\n",
      "2017-02-01 11:06:58,009 : INFO : PROGRESS: at 11.18% examples, 235586 words/s, in_qsize 0, out_qsize 0\n",
      "2017-02-01 11:06:59,028 : INFO : PROGRESS: at 16.18% examples, 236165 words/s, in_qsize 0, out_qsize 0\n",
      "2017-02-01 11:07:00,042 : INFO : PROGRESS: at 21.16% examples, 234484 words/s, in_qsize 0, out_qsize 0\n",
      "2017-02-01 11:07:01,075 : INFO : PROGRESS: at 26.64% examples, 233079 words/s, in_qsize 0, out_qsize 0\n",
      "2017-02-01 11:07:02,097 : INFO : PROGRESS: at 32.15% examples, 232435 words/s, in_qsize 0, out_qsize 0\n",
      "2017-02-01 11:07:03,104 : INFO : PROGRESS: at 36.98% examples, 232410 words/s, in_qsize 0, out_qsize 0\n",
      "2017-02-01 11:07:04,129 : INFO : PROGRESS: at 41.95% examples, 231716 words/s, in_qsize 0, out_qsize 0\n",
      "2017-02-01 11:07:05,161 : INFO : PROGRESS: at 47.58% examples, 231124 words/s, in_qsize 0, out_qsize 0\n",
      "2017-02-01 11:07:06,180 : INFO : PROGRESS: at 52.89% examples, 231140 words/s, in_qsize 0, out_qsize 0\n",
      "2017-02-01 11:07:07,204 : INFO : PROGRESS: at 57.56% examples, 230230 words/s, in_qsize 0, out_qsize 0\n",
      "2017-02-01 11:07:08,236 : INFO : PROGRESS: at 62.44% examples, 229127 words/s, in_qsize 0, out_qsize 0\n",
      "2017-02-01 11:07:09,247 : INFO : PROGRESS: at 67.88% examples, 228690 words/s, in_qsize 0, out_qsize 0\n",
      "2017-02-01 11:07:10,259 : INFO : PROGRESS: at 73.34% examples, 229496 words/s, in_qsize 0, out_qsize 0\n",
      "2017-02-01 11:07:11,283 : INFO : PROGRESS: at 77.66% examples, 227853 words/s, in_qsize 0, out_qsize 0\n",
      "2017-02-01 11:07:12,293 : INFO : PROGRESS: at 82.38% examples, 227094 words/s, in_qsize 0, out_qsize 0\n",
      "2017-02-01 11:07:13,293 : INFO : PROGRESS: at 87.82% examples, 227015 words/s, in_qsize 0, out_qsize 0\n",
      "2017-02-01 11:07:14,307 : INFO : PROGRESS: at 92.94% examples, 226880 words/s, in_qsize 0, out_qsize 0\n",
      "2017-02-01 11:07:15,322 : INFO : PROGRESS: at 97.61% examples, 226649 words/s, in_qsize 0, out_qsize 0\n",
      "2017-02-01 11:07:15,753 : INFO : worker thread finished; awaiting finish of 7 more threads\n",
      "2017-02-01 11:07:15,757 : INFO : worker thread finished; awaiting finish of 6 more threads\n",
      "2017-02-01 11:07:15,758 : INFO : worker thread finished; awaiting finish of 5 more threads\n",
      "2017-02-01 11:07:15,759 : INFO : worker thread finished; awaiting finish of 4 more threads\n",
      "2017-02-01 11:07:15,759 : INFO : worker thread finished; awaiting finish of 3 more threads\n",
      "2017-02-01 11:07:15,760 : INFO : worker thread finished; awaiting finish of 2 more threads\n",
      "2017-02-01 11:07:15,760 : INFO : worker thread finished; awaiting finish of 1 more threads\n",
      "2017-02-01 11:07:15,771 : INFO : worker thread finished; awaiting finish of 0 more threads\n",
      "2017-02-01 11:07:15,771 : INFO : training on 5761770 raw words (4495598 effective words) took 19.8s, 226889 effective words/s\n"
     ]
    }
   ],
   "source": [
    "model = Word2Vec(sentences, size=400, workers=multiprocessing.cpu_count())"
   ]
  },
  {
   "cell_type": "code",
   "execution_count": 8,
   "metadata": {
    "collapsed": false
   },
   "outputs": [
    {
     "data": {
      "text/plain": [
       "'Word2Vec(vocab=12938, size=400, alpha=0.025)'"
      ]
     },
     "execution_count": 8,
     "metadata": {},
     "output_type": "execute_result"
    }
   ],
   "source": [
    "str(model)"
   ]
  },
  {
   "cell_type": "code",
   "execution_count": 9,
   "metadata": {
    "collapsed": false
   },
   "outputs": [
    {
     "name": "stderr",
     "output_type": "stream",
     "text": [
      "2017-02-01 11:07:21,886 : INFO : precomputing L2-norms of word weight vectors\n"
     ]
    }
   ],
   "source": [
    "model.init_sims()"
   ]
  },
  {
   "cell_type": "code",
   "execution_count": 10,
   "metadata": {
    "collapsed": false
   },
   "outputs": [
    {
     "name": "stdout",
     "output_type": "stream",
     "text": [
      "эдди           0.930867\n",
      "джейк          0.927866\n",
      "стрелок        0.923976\n",
      "сюзанна        0.906455\n",
      "джонас         0.877154\n",
      "каллагэн       0.874936\n",
      "сюзан          0.836734\n",
      "миа            0.825972\n",
      "тим            0.825747\n",
      "шими           0.790276\n"
     ]
    }
   ],
   "source": [
    "for t in model.most_similar(u'роланд'):\n",
    "    print '%-14s %f' % t"
   ]
  },
  {
   "cell_type": "code",
   "execution_count": 11,
   "metadata": {
    "collapsed": false
   },
   "outputs": [
    {
     "name": "stdout",
     "output_type": "stream",
     "text": [
      "дом            0.666709\n",
      "путь           0.655805\n",
      "поиск          0.645282\n",
      "город          0.644602\n",
      "поезд          0.644344\n",
      "тропа          0.644334\n",
      "лес            0.639535\n",
      "подходить      0.638604\n",
      "луч            0.632973\n",
      "темный         0.632168\n"
     ]
    }
   ],
   "source": [
    "for t in model.most_similar(u'башня'):\n",
    "    print '%-14s %f' % t"
   ]
  },
  {
   "cell_type": "code",
   "execution_count": 12,
   "metadata": {
    "collapsed": false
   },
   "outputs": [
    {
     "name": "stdout",
     "output_type": "stream",
     "text": [
      "тропа          0.880872\n",
      "лес            0.849846\n",
      "дорога         0.842516\n",
      "восточный      0.837848\n",
      "главный        0.835238\n",
      "улица          0.832243\n",
      "западный       0.820276\n",
      "начинаться     0.818366\n",
      "город          0.815418\n",
      "поезд          0.811808\n"
     ]
    }
   ],
   "source": [
    "for t in model.most_similar(u'луч'):\n",
    "    print '%-14s %f' % t"
   ]
  },
  {
   "cell_type": "code",
   "execution_count": null,
   "metadata": {
    "collapsed": true
   },
   "outputs": [],
   "source": []
  }
 ],
 "metadata": {
  "kernelspec": {
   "display_name": "Python 2",
   "language": "python",
   "name": "python2"
  },
  "language_info": {
   "codemirror_mode": {
    "name": "ipython",
    "version": 2
   },
   "file_extension": ".py",
   "mimetype": "text/x-python",
   "name": "python",
   "nbconvert_exporter": "python",
   "pygments_lexer": "ipython2",
   "version": "2.7.12"
  }
 },
 "nbformat": 4,
 "nbformat_minor": 2
}
