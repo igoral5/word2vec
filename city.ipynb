{
 "cells": [
  {
   "cell_type": "code",
   "execution_count": 1,
   "metadata": {
    "collapsed": true
   },
   "outputs": [],
   "source": [
    "import numpy as np"
   ]
  },
  {
   "cell_type": "code",
   "execution_count": 2,
   "metadata": {
    "collapsed": true
   },
   "outputs": [],
   "source": [
    "from gensim.models import Word2Vec"
   ]
  },
  {
   "cell_type": "code",
   "execution_count": 3,
   "metadata": {
    "collapsed": false
   },
   "outputs": [],
   "source": [
    "from gensim.matutils import argsort"
   ]
  },
  {
   "cell_type": "code",
   "execution_count": 4,
   "metadata": {
    "collapsed": true
   },
   "outputs": [],
   "source": [
    "def norm(v):\n",
    "    return v / np.sqrt(np.sum(v**2))"
   ]
  },
  {
   "cell_type": "code",
   "execution_count": 5,
   "metadata": {
    "collapsed": true
   },
   "outputs": [],
   "source": [
    "model = Word2Vec.load('/mnt/ubuntu/home/igor/wiki/wiki.ru.word2vec.model')"
   ]
  },
  {
   "cell_type": "code",
   "execution_count": 6,
   "metadata": {
    "collapsed": false
   },
   "outputs": [
    {
     "data": {
      "text/plain": [
       "'Word2Vec(vocab=1496844, size=400, alpha=0.025)'"
      ]
     },
     "execution_count": 6,
     "metadata": {},
     "output_type": "execute_result"
    }
   ],
   "source": [
    "str(model)"
   ]
  },
  {
   "cell_type": "code",
   "execution_count": 7,
   "metadata": {
    "collapsed": true
   },
   "outputs": [],
   "source": [
    "model.init_sims()"
   ]
  },
  {
   "cell_type": "code",
   "execution_count": 8,
   "metadata": {
    "collapsed": true
   },
   "outputs": [],
   "source": [
    "d = model[u'франция'] + model[u'берлин'] - model[u'германия']"
   ]
  },
  {
   "cell_type": "code",
   "execution_count": 9,
   "metadata": {
    "collapsed": true
   },
   "outputs": [],
   "source": [
    "all_words = set([model.wv.vocab[u'франция'].index, model.wv.vocab[u'берлин'].index, model.wv.vocab[u'германия'].index])"
   ]
  },
  {
   "cell_type": "code",
   "execution_count": 10,
   "metadata": {
    "collapsed": true
   },
   "outputs": [],
   "source": [
    "dist = np.dot(model.wv.syn0norm, norm(d))"
   ]
  },
  {
   "cell_type": "code",
   "execution_count": 11,
   "metadata": {
    "collapsed": false
   },
   "outputs": [
    {
     "name": "stdout",
     "output_type": "stream",
     "text": [
      "париж          0.739978\n",
      "лион           0.533855\n",
      "страсбург      0.528068\n",
      "версаль        0.525461\n",
      "руан           0.517723\n",
      "нантер         0.509910\n",
      "гавр           0.507809\n",
      "канны          0.505280\n",
      "брюссель       0.505239\n",
      "марсель        0.503839\n",
      "авиньон        0.500506\n",
      "гренобль       0.495973\n",
      "лондон         0.495763\n",
      "ниццу          0.484816\n",
      "женеву         0.484431\n",
      "париже         0.482058\n",
      "арль           0.481720\n",
      "довиль         0.471691\n",
      "парижа         0.468049\n",
      "дижон          0.466797\n"
     ]
    }
   ],
   "source": [
    "for i in filter(lambda id: id not in all_words, argsort(dist, topn=20 + len(all_words), reverse=True))[:20]:\n",
    "    print u'%-14s %f' % (model.wv.index2word[i], dist[i])"
   ]
  },
  {
   "cell_type": "code",
   "execution_count": 12,
   "metadata": {
    "collapsed": false
   },
   "outputs": [
    {
     "name": "stdout",
     "output_type": "stream",
     "text": [
      "париж          0.739978\n",
      "лион           0.533855\n",
      "страсбург      0.528068\n",
      "версаль        0.525461\n",
      "руан           0.517723\n",
      "нантер         0.509910\n",
      "гавр           0.507809\n",
      "канны          0.505280\n",
      "брюссель       0.505239\n",
      "марсель        0.503839\n",
      "авиньон        0.500506\n",
      "гренобль       0.495973\n",
      "лондон         0.495763\n",
      "ниццу          0.484816\n",
      "женеву         0.484431\n",
      "париже         0.482058\n",
      "арль           0.481720\n",
      "довиль         0.471691\n",
      "парижа         0.468049\n",
      "дижон          0.466797\n"
     ]
    }
   ],
   "source": [
    "for t in model.most_similar(positive=[u'франция', u'берлин'], negative=[u'германия'], topn=20):\n",
    "    print u'%-14s %f' % t"
   ]
  },
  {
   "cell_type": "code",
   "execution_count": 13,
   "metadata": {
    "collapsed": false
   },
   "outputs": [
    {
     "name": "stdout",
     "output_type": "stream",
     "text": [
      "королева       0.629243\n",
      "правительница  0.507418\n",
      "принцесса      0.502376\n",
      "брунгильда     0.494132\n",
      "беренгария     0.492174\n",
      "алиенора       0.482444\n",
      "изабелла       0.476233\n",
      "царица         0.473996\n",
      "регентша       0.468397\n",
      "короля         0.468177\n",
      "мелисенда      0.463251\n",
      "герцогиня      0.456386\n",
      "колдунья       0.448128\n",
      "этельред       0.447851\n",
      "клеменция      0.447312\n",
      "императрица    0.447250\n",
      "инквизиция     0.445295\n",
      "фредегонда     0.438984\n",
      "теоделинда     0.438616\n",
      "аристократка   0.435656\n"
     ]
    }
   ],
   "source": [
    "for t in model.most_similar(positive=[u'король', u'женщина'], negative=[u'мужчина'], topn=20):\n",
    "    print u'%-14s %f' % t"
   ]
  },
  {
   "cell_type": "code",
   "execution_count": null,
   "metadata": {
    "collapsed": true
   },
   "outputs": [],
   "source": []
  }
 ],
 "metadata": {
  "kernelspec": {
   "display_name": "Python 2",
   "language": "python",
   "name": "python2"
  },
  "language_info": {
   "codemirror_mode": {
    "name": "ipython",
    "version": 2
   },
   "file_extension": ".py",
   "mimetype": "text/x-python",
   "name": "python",
   "nbconvert_exporter": "python",
   "pygments_lexer": "ipython2",
   "version": "2.7.12"
  }
 },
 "nbformat": 4,
 "nbformat_minor": 2
}
