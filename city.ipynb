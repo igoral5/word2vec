{
 "cells": [
  {
   "cell_type": "code",
   "execution_count": 1,
   "metadata": {
    "collapsed": true
   },
   "outputs": [],
   "source": [
    "import numpy as np"
   ]
  },
  {
   "cell_type": "code",
   "execution_count": 2,
   "metadata": {
    "collapsed": true
   },
   "outputs": [],
   "source": [
    "from gensim.models import Word2Vec"
   ]
  },
  {
   "cell_type": "code",
   "execution_count": 3,
   "metadata": {
    "collapsed": false
   },
   "outputs": [],
   "source": [
    "from gensim.matutils import argsort"
   ]
  },
  {
   "cell_type": "code",
   "execution_count": 4,
   "metadata": {
    "collapsed": true
   },
   "outputs": [],
   "source": [
    "def norm(v):\n",
    "    return v / np.sqrt(np.sum(v**2))"
   ]
  },
  {
   "cell_type": "code",
   "execution_count": 5,
   "metadata": {
    "collapsed": true
   },
   "outputs": [],
   "source": [
    "model = Word2Vec.load('/mnt/ubuntu/home/igor/wiki/wiki.ru.word2vec.model')"
   ]
  },
  {
   "cell_type": "code",
   "execution_count": 6,
   "metadata": {
    "collapsed": false
   },
   "outputs": [
    {
     "data": {
      "text/plain": [
       "'Word2Vec(vocab=1496844, size=400, alpha=0.025)'"
      ]
     },
     "execution_count": 6,
     "metadata": {},
     "output_type": "execute_result"
    }
   ],
   "source": [
    "str(model)"
   ]
  },
  {
   "cell_type": "code",
   "execution_count": 7,
   "metadata": {
    "collapsed": true
   },
   "outputs": [],
   "source": [
    "model.init_sims()"
   ]
  },
  {
   "cell_type": "code",
   "execution_count": 8,
   "metadata": {
    "collapsed": true
   },
   "outputs": [],
   "source": [
    "d = model[u'франция'] + model[u'берлин'] - model[u'германия']"
   ]
  },
  {
   "cell_type": "code",
   "execution_count": 9,
   "metadata": {
    "collapsed": true
   },
   "outputs": [],
   "source": [
    "all_words = set([model.wv.vocab[u'франция'].index, model.wv.vocab[u'берлин'].index, model.wv.vocab[u'германия'].index])"
   ]
  },
  {
   "cell_type": "code",
   "execution_count": 10,
   "metadata": {
    "collapsed": true
   },
   "outputs": [],
   "source": [
    "dist = np.dot(model.wv.syn0norm, norm(d))"
   ]
  },
  {
   "cell_type": "code",
   "execution_count": 11,
   "metadata": {
    "collapsed": false
   },
   "outputs": [
    {
     "name": "stdout",
     "output_type": "stream",
     "text": [
      "париж          0.730145\n",
      "версаль        0.543022\n",
      "лион           0.526964\n",
      "руан           0.520607\n",
      "страсбург      0.519004\n",
      "брюссель       0.507087\n",
      "авиньон        0.506429\n",
      "лондон         0.505366\n",
      "женеву         0.504230\n",
      "ниццу          0.500997\n",
      "нантер         0.492182\n",
      "онфлёр         0.487181\n",
      "париже         0.483902\n",
      "гавр           0.483174\n",
      "реймс          0.482650\n",
      "гренобль       0.477837\n",
      "канны          0.474210\n",
      "довиль         0.473704\n",
      "фонтен         0.472925\n",
      "дижон          0.472640\n"
     ]
    }
   ],
   "source": [
    "for i in filter(lambda id: id not in all_words, argsort(dist, topn=20 + len(all_words), reverse=True))[:20]:\n",
    "    print u'%-14s %f' % (model.wv.index2word[i], dist[i])"
   ]
  },
  {
   "cell_type": "code",
   "execution_count": 12,
   "metadata": {
    "collapsed": false
   },
   "outputs": [
    {
     "name": "stdout",
     "output_type": "stream",
     "text": [
      "париж          0.730145\n",
      "версаль        0.543022\n",
      "лион           0.526964\n",
      "руан           0.520607\n",
      "страсбург      0.519004\n",
      "брюссель       0.507087\n",
      "авиньон        0.506429\n",
      "лондон         0.505366\n",
      "женеву         0.504230\n",
      "ниццу          0.500997\n",
      "нантер         0.492182\n",
      "онфлёр         0.487181\n",
      "париже         0.483902\n",
      "гавр           0.483174\n",
      "реймс          0.482649\n",
      "гренобль       0.477837\n",
      "канны          0.474210\n",
      "довиль         0.473704\n",
      "фонтен         0.472925\n",
      "дижон          0.472640\n"
     ]
    }
   ],
   "source": [
    "for t in model.most_similar(positive=[u'франция', u'берлин'], negative=[u'германия'], topn=20):\n",
    "    print u'%-14s %f' % t"
   ]
  },
  {
   "cell_type": "code",
   "execution_count": 13,
   "metadata": {
    "collapsed": false
   },
   "outputs": [
    {
     "name": "stdout",
     "output_type": "stream",
     "text": [
      "королева       0.618538\n",
      "правительница  0.523652\n",
      "принцесса      0.497369\n",
      "брунгильда     0.489515\n",
      "алиенора       0.485715\n",
      "беренгария     0.483657\n",
      "царица         0.473819\n",
      "мелисенда      0.471031\n",
      "аквитанская    0.467271\n",
      "герцогиня      0.458270\n",
      "короля         0.455530\n",
      "изабелла       0.452399\n",
      "королём        0.450949\n",
      "инквизиция     0.450871\n",
      "регентша       0.444198\n",
      "императрица    0.438564\n",
      "колдунья       0.436417\n",
      "беатриса       0.434377\n",
      "матильда       0.424948\n",
      "теоделинда     0.424068\n"
     ]
    }
   ],
   "source": [
    "for t in model.most_similar(positive=[u'король', u'женщина'], negative=[u'мужчина'], topn=20):\n",
    "    print u'%-14s %f' % t"
   ]
  },
  {
   "cell_type": "code",
   "execution_count": null,
   "metadata": {
    "collapsed": true
   },
   "outputs": [],
   "source": []
  }
 ],
 "metadata": {
  "kernelspec": {
   "display_name": "Python 2",
   "language": "python",
   "name": "python2"
  },
  "language_info": {
   "codemirror_mode": {
    "name": "ipython",
    "version": 2
   },
   "file_extension": ".py",
   "mimetype": "text/x-python",
   "name": "python",
   "nbconvert_exporter": "python",
   "pygments_lexer": "ipython2",
   "version": "2.7.12"
  }
 },
 "nbformat": 4,
 "nbformat_minor": 2
}
